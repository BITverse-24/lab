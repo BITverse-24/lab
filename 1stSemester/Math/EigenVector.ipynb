{
  "nbformat": 4,
  "nbformat_minor": 0,
  "metadata": {
    "colab": {
      "provenance": []
    },
    "kernelspec": {
      "name": "python3",
      "display_name": "Python 3"
    },
    "language_info": {
      "name": "python"
    }
  },
  "cells": [
    {
      "cell_type": "code",
      "execution_count": 1,
      "metadata": {
        "colab": {
          "base_uri": "https://localhost:8080/",
          "height": 205
        },
        "id": "PvXnfK6txpVd",
        "outputId": "c411af17-dfaf-4b83-adb4-d4cfacf6d3cd"
      },
      "outputs": [
        {
          "output_type": "stream",
          "name": "stdout",
          "text": [
            "The given matrix A is\n"
          ]
        },
        {
          "output_type": "display_data",
          "data": {
            "text/plain": [
              "Matrix([\n",
              "[4,  3, 2],\n",
              "[1,  4, 1],\n",
              "[3, 10, 4]])"
            ],
            "text/latex": "$\\displaystyle \\left[\\begin{matrix}4 & 3 & 2\\\\1 & 4 & 1\\\\3 & 10 & 4\\end{matrix}\\right]$"
          },
          "metadata": {}
        },
        {
          "output_type": "stream",
          "name": "stdout",
          "text": [
            "Eigen values: \n",
            " [8.98205672 2.12891771 0.88902557]\n",
            "Eigen Values: \n",
            " [[-0.49247712 -0.82039552 -0.42973429]\n",
            " [-0.26523242  0.14250681 -0.14817858]\n",
            " [-0.82892584  0.55375355  0.89071407]]\n"
          ]
        }
      ],
      "source": [
        "# Program 1\n",
        "\n",
        "from numpy import *\n",
        "from sympy import Matrix\n",
        "\n",
        "A = [[4, 3, 2], [1, 4, 1], [3, 10, 4]]\n",
        "\n",
        "print(\"The given matrix A is\")\n",
        "\n",
        "display(Matrix(A))\n",
        "eig_val, eig_vec = linalg.eig(A) # Computes the eigenvalues and eigenvectors of a square matrix\n",
        "\n",
        "\n",
        "print(\"Eigen values: \\n\", eig_val)\n",
        "print(\"Eigen Values: \\n\", eig_vec)"
      ]
    },
    {
      "cell_type": "code",
      "source": [
        "# Exercise 1\n",
        "\n",
        "from numpy import *\n",
        "from sympy import Matrix\n",
        "\n",
        "A = [[25, 1, 2], [1, 3, 0], [2, 0, -4]]\n",
        "\n",
        "print(\"The given matrix A is\")\n",
        "display(Matrix(A))\n",
        "eig_val, eig_vec = linalg.eig(A)\n",
        "print(\"Eigen values: \\n\", eig_val)\n",
        "print(\"Eigen Values: \\n\", eig_vec)"
      ],
      "metadata": {
        "colab": {
          "base_uri": "https://localhost:8080/",
          "height": 205
        },
        "id": "dv6WxdXXyKeS",
        "outputId": "7dc01c0c-9618-46d7-d952-de2084c14e49"
      },
      "execution_count": 2,
      "outputs": [
        {
          "output_type": "stream",
          "name": "stdout",
          "text": [
            "The given matrix A is\n"
          ]
        },
        {
          "output_type": "display_data",
          "data": {
            "text/plain": [
              "Matrix([\n",
              "[25, 1,  2],\n",
              "[ 1, 3,  0],\n",
              "[ 2, 0, -4]])"
            ],
            "text/latex": "$\\displaystyle \\left[\\begin{matrix}25 & 1 & 2\\\\1 & 3 & 0\\\\2 & 0 & -4\\end{matrix}\\right]$"
          },
          "metadata": {}
        },
        {
          "output_type": "stream",
          "name": "stdout",
          "text": [
            "Eigen values: \n",
            " [25.18215138 -4.13794129  2.95578991]\n",
            "Eigen Values: \n",
            " [[ 0.9966522   0.06880398  0.04416339]\n",
            " [ 0.04493037 -0.00963919 -0.99894362]\n",
            " [ 0.0683056  -0.99758363  0.01269831]]\n"
          ]
        }
      ]
    },
    {
      "cell_type": "code",
      "source": [
        "# Program 2\n",
        "\n",
        "from numpy import *\n",
        "A = [[25, 1, 2], [1, 3, 0], [2, 0, -4]]\n",
        "X = [1, 0, 0] #  Initial guess for the eigenvector\n",
        "λ_i = 0 # Tracks the eigenvalue from the previous iteration (initialized to 0)\n",
        "\n",
        "while(True):\n",
        "\n",
        "  Y = dot(A, X) # Multiplies A with the current eigenvector estimate X to get a new vector Y\n",
        "  λ = abs(Y).max() # Takes the maximum absolute value in Y as an approximation of the dominant eigenvalue\n",
        "  X = Y/λ # Normalizes the vector Y to avoid numerical overflow or underflow and prepares it for the next iteration\n",
        "\n",
        "  print(\"\\nThe largest Eigenvalue is: %.4f\"%λ)\n",
        "  print(\"\\nCorresponding Eigenvector is: \", X.round(decimals = 4))\n",
        "\n",
        "  if abs(λ - λ_i) < 0.001:\n",
        "    break\n",
        "  else:\n",
        "    λ_i = λ\n",
        "\n",
        "print(\"\\nThe solution is:\\n\")\n",
        "print(\"The largest EigenValue is: %.4f\"%λ)\n",
        "print(\"Corresponding EigenVector is: \", X.round(decimals = 4))\n"
      ],
      "metadata": {
        "colab": {
          "base_uri": "https://localhost:8080/"
        },
        "id": "ujXvmSg6yiB6",
        "outputId": "2b959e0b-ffb7-499a-ebf7-960e638dedc0"
      },
      "execution_count": 3,
      "outputs": [
        {
          "output_type": "stream",
          "name": "stdout",
          "text": [
            "\n",
            "The largest Eigenvalue is: 25.0000\n",
            "\n",
            "Corresponding Eigenvector is:  [1.   0.04 0.08]\n",
            "\n",
            "The largest Eigenvalue is: 25.2000\n",
            "\n",
            "Corresponding Eigenvector is:  [1.     0.0444 0.0667]\n",
            "\n",
            "The largest Eigenvalue is: 25.1778\n",
            "\n",
            "Corresponding Eigenvector is:  [1.     0.045  0.0688]\n",
            "\n",
            "The largest Eigenvalue is: 25.1827\n",
            "\n",
            "Corresponding Eigenvector is:  [1.     0.0451 0.0685]\n",
            "\n",
            "The largest Eigenvalue is: 25.1820\n",
            "\n",
            "Corresponding Eigenvector is:  [1.     0.0451 0.0685]\n",
            "\n",
            "The solution is:\n",
            "\n",
            "The largest EigenValue is: 25.1820\n",
            "Corresponding EigenVector isL  [1.     0.0451 0.0685]\n"
          ]
        }
      ]
    },
    {
      "cell_type": "code",
      "source": [
        "# Exercise 2\n",
        "\n",
        "from numpy import *\n",
        "A = [[6, 1, 2], [1, 10, -1], [2, 1, -4]]\n",
        "X = [1, 0, 0]\n",
        "λ_i = 0\n",
        "\n",
        "while(True):\n",
        "  Y = dot(A, X)\n",
        "  λ = abs(Y).max()\n",
        "  X = Y/λ\n",
        "  print(\"\\nThe largest Eigenvalue is: %.4f\"%λ)\n",
        "  print(\"\\nCorresponding Eigenvector is: \", X.round(decimals = 4))\n",
        "  if abs(λ - λ_i) < 0.001:\n",
        "    break\n",
        "  else:\n",
        "    λ_i = λ\n",
        "\n",
        "print(\"\\nThe solution is:\\n\")\n",
        "print(\"The largest EigenValue is: %.4f\"%λ)\n",
        "print(\"Corresponding EigenVector is: \", X.round(decimals = 4))\n"
      ],
      "metadata": {
        "colab": {
          "base_uri": "https://localhost:8080/"
        },
        "id": "IFXEJL6YzwNK",
        "outputId": "96c4e531-d497-4691-93a5-e8402f6a3cbf"
      },
      "execution_count": 4,
      "outputs": [
        {
          "output_type": "stream",
          "name": "stdout",
          "text": [
            "\n",
            "The largest Eigenvalue is: 6.0000\n",
            "\n",
            "Corresponding Eigenvector is:  [1.     0.1667 0.3333]\n",
            "\n",
            "The largest Eigenvalue is: 6.8333\n",
            "\n",
            "Corresponding Eigenvector is:  [1.     0.3415 0.122 ]\n",
            "\n",
            "The largest Eigenvalue is: 6.5854\n",
            "\n",
            "Corresponding Eigenvector is:  [1.     0.6519 0.2815]\n",
            "\n",
            "The largest Eigenvalue is: 7.2370\n",
            "\n",
            "Corresponding Eigenvector is:  [0.9969 1.     0.2108]\n",
            "\n",
            "The largest Eigenvalue is: 10.7861\n",
            "\n",
            "Corresponding Eigenvector is:  [0.6864 1.     0.1994]\n",
            "\n",
            "The largest Eigenvalue is: 10.4870\n",
            "\n",
            "Corresponding Eigenvector is:  [0.5261 1.     0.1502]\n",
            "\n",
            "The largest Eigenvalue is: 10.3759\n",
            "\n",
            "Corresponding Eigenvector is:  [0.4295 1.     0.1399]\n",
            "\n",
            "The largest Eigenvalue is: 10.2897\n",
            "\n",
            "Corresponding Eigenvector is:  [0.3748 1.     0.1263]\n",
            "\n",
            "The largest Eigenvalue is: 10.2485\n",
            "\n",
            "Corresponding Eigenvector is:  [0.3417 1.     0.1214]\n",
            "\n",
            "The largest Eigenvalue is: 10.2202\n",
            "\n",
            "Corresponding Eigenvector is:  [0.3222 1.     0.1172]\n",
            "\n",
            "The largest Eigenvalue is: 10.2050\n",
            "\n",
            "Corresponding Eigenvector is:  [0.3104 1.     0.1152]\n",
            "\n",
            "The largest Eigenvalue is: 10.1952\n",
            "\n",
            "Corresponding Eigenvector is:  [0.3034 1.     0.1138]\n",
            "\n",
            "The largest Eigenvalue is: 10.1896\n",
            "\n",
            "Corresponding Eigenvector is:  [0.2991 1.     0.113 ]\n",
            "\n",
            "The largest Eigenvalue is: 10.1861\n",
            "\n",
            "Corresponding Eigenvector is:  [0.2965 1.     0.1125]\n",
            "\n",
            "The largest Eigenvalue is: 10.1840\n",
            "\n",
            "Corresponding Eigenvector is:  [0.295  1.     0.1122]\n",
            "\n",
            "The largest Eigenvalue is: 10.1828\n",
            "\n",
            "Corresponding Eigenvector is:  [0.2941 1.     0.1121]\n",
            "\n",
            "The largest Eigenvalue is: 10.1820\n",
            "\n",
            "Corresponding Eigenvector is:  [0.2935 1.     0.112 ]\n",
            "\n",
            "The solution is:\n",
            "\n",
            "The largest EigenValue is: 10.1820\n",
            "Corresponding EigenVector is:  [0.2935 1.     0.112 ]\n"
          ]
        }
      ]
    },
    {
      "cell_type": "code",
      "source": [],
      "metadata": {
        "id": "ucKozMnq0DLi"
      },
      "execution_count": null,
      "outputs": []
    }
  ]
}