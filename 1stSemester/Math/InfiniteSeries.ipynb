{
  "nbformat": 4,
  "nbformat_minor": 0,
  "metadata": {
    "colab": {
      "provenance": [],
      "gpuType": "T4",
      "authorship_tag": "ABX9TyMs5JmTO1oBn2sVnCb+uH7d"
    },
    "kernelspec": {
      "name": "python3",
      "display_name": "Python 3"
    },
    "language_info": {
      "name": "python"
    },
    "accelerator": "GPU"
  },
  "cells": [
    {
      "cell_type": "code",
      "execution_count": 2,
      "metadata": {
        "colab": {
          "base_uri": "https://localhost:8080/",
          "height": 64
        },
        "id": "ZVZniO91XI3v",
        "outputId": "2cf83ed4-2f9e-4c90-e277-7c6db2d1df4d"
      },
      "outputs": [
        {
          "output_type": "display_data",
          "data": {
            "text/plain": [
              "Eq(Limit(an**(1/n), n, oo, dir='-'), E)"
            ],
            "text/latex": "$\\displaystyle \\lim_{n \\to \\infty} an^{\\frac{1}{n}} = e$"
          },
          "metadata": {}
        },
        {
          "output_type": "stream",
          "name": "stdout",
          "text": [
            "The Infinite Series is divergent, using root test\n"
          ]
        }
      ],
      "source": [
        "# Program 1 (using Cauchy's Root Test)\n",
        "\n",
        "from sympy import *\n",
        "\n",
        "n, an = symbols(\"n, an\")\n",
        "\n",
        "un = (1 + 1/n) ** (n ** 2)\n",
        "un1 = un ** (1/n) # un1 is determined as per the Cauchy's Root Test\n",
        "\n",
        "l = limit(un1, n, oo) # The limit of un1 with n tending to infinity is stored in the variable \"l\"\n",
        "\n",
        "display(Eq(Limit(an ** (1/n), n, oo), l)) # Displays mathematical equation where the limit is equated to the limit value (\"l\") found in previous step\n",
        "\n",
        "# Root test rules:\n",
        "if l < 1:\n",
        "  print(\"The Infinite Series is convergent, using root test\")\n",
        "elif l > 1:\n",
        "  print(\"The Infinite Series is divergent, using root test\")\n",
        "else:\n",
        "  print(\"Cauchy's root test fails\")\n"
      ]
    },
    {
      "cell_type": "code",
      "source": [
        "# Exercise 1\n",
        "\n",
        "from sympy import *\n",
        "\n",
        "n, an = symbols(\"n, an\")\n",
        "\n",
        "un = (n - log(n)) ** n / (2 ** n * n ** n)\n",
        "un1 = un ** (1/n)\n",
        "\n",
        "l = limit(un1, n, oo)\n",
        "\n",
        "display(Eq(Limit(an ** (1/n), n, oo), l))\n",
        "\n",
        "if l < 1:\n",
        "  print(\"The Infinite Series is convergent, using root test\")\n",
        "elif l > 1:\n",
        "  print(\"The Infinite Series is divergent, using root test\")\n",
        "else:\n",
        "  print(\"Cauchy's root test fails\")"
      ],
      "metadata": {
        "colab": {
          "base_uri": "https://localhost:8080/",
          "height": 69
        },
        "id": "Bof0dG9uXOe_",
        "outputId": "fe343091-a6da-4dc5-f155-3341a979468a"
      },
      "execution_count": 3,
      "outputs": [
        {
          "output_type": "display_data",
          "data": {
            "text/plain": [
              "Eq(Limit(an**(1/n), n, oo, dir='-'), 1/2)"
            ],
            "text/latex": "$\\displaystyle \\lim_{n \\to \\infty} an^{\\frac{1}{n}} = \\frac{1}{2}$"
          },
          "metadata": {}
        },
        {
          "output_type": "stream",
          "name": "stdout",
          "text": [
            "The Infinite Series is convergent, using root test\n"
          ]
        }
      ]
    },
    {
      "cell_type": "code",
      "source": [
        "# Program 2 (using Ratio test and Raabe's Test)\n",
        "\n",
        "from sympy import *\n",
        "n, an, an1 = symbols(\"n, an, an1\")\n",
        "\n",
        "un = 1 / ((2 * n - 1) * 2 * n)\n",
        "un1 = un.subs(n, n + 1) # un1 is determined by substituting \"n\" with \"n + 1\"\n",
        "\n",
        "l = limit(un1 / un, n, oo) # Standard working procedure for Ratio test: to find the limit of (un1 / un) with n tending to infinity\n",
        "\n",
        "display(Eq(Limit(an1 / an, n, oo), l)) # Displays mathematical equation where the limit is equated to the limit value (\"l\") found in previous step\n",
        "\n",
        "# Ratio test rules:\n",
        "if l < 1:\n",
        "  print(\"The Infinite Series is convergent, using Ratio Test\")\n",
        "elif l > 1:\n",
        "  print(\"The Infinite Series is divergent, using Ratio Test\")\n",
        "else:\n",
        "  print(\"Ratio Test Fails\") # Hence proceeding to Raabe's test\n",
        "\n",
        "  l = limit(n * (un / un1 - 1), n, oo) # Standard working procedure for Raabe's test\n",
        "  display(Eq(Limit(n * (an / an1 - 1), n, oo), l))\n",
        "\n",
        "  # Raabe's Test Rules\n",
        "  if l > 1:\n",
        "    print(\"Infinite Series is convergent, using Raabe's Test\")\n",
        "  elif l < 1:\n",
        "    print(\"Infinite Series is divergent, using Raabe's Test\")\n",
        "  else:\n",
        "    print(\"Raabe's Test Fails\")"
      ],
      "metadata": {
        "colab": {
          "base_uri": "https://localhost:8080/",
          "height": 125
        },
        "id": "Ju2Hg_B0bBBf",
        "outputId": "a343be8a-615b-4fe9-89da-b1569ec6fc22"
      },
      "execution_count": 9,
      "outputs": [
        {
          "output_type": "display_data",
          "data": {
            "text/plain": [
              "Eq(Limit(an1/an, n, oo, dir='-'), 1)"
            ],
            "text/latex": "$\\displaystyle \\lim_{n \\to \\infty}\\left(\\frac{an_{1}}{an}\\right) = 1$"
          },
          "metadata": {}
        },
        {
          "output_type": "stream",
          "name": "stdout",
          "text": [
            "Ratio Test Fails\n"
          ]
        },
        {
          "output_type": "display_data",
          "data": {
            "text/plain": [
              "Eq(Limit(n*(an/an1 - 1), n, oo, dir='-'), 2)"
            ],
            "text/latex": "$\\displaystyle \\lim_{n \\to \\infty}\\left(n \\left(\\frac{an}{an_{1}} - 1\\right)\\right) = 2$"
          },
          "metadata": {}
        },
        {
          "output_type": "stream",
          "name": "stdout",
          "text": [
            "Infinite Series is convergent, using Raabe's Test\n"
          ]
        }
      ]
    },
    {
      "cell_type": "code",
      "source": [
        "# Exercise 2\n",
        "\n",
        "from sympy import *\n",
        "n, an, an1 = symbols(\"n, an, an1\")\n",
        "\n",
        "un = ((2 ** n * factorial(n)) / n ** n)\n",
        "un1 = un.subs(n, n + 1)\n",
        "\n",
        "l = limit(un1 / un, n, oo)\n",
        "\n",
        "display(Eq(Limit(an1 / an, n, oo), l))\n",
        "\n",
        "if l < 1:\n",
        "  print(\"The Infinite Series is convergent, using Ratio Test\")\n",
        "elif l > 1:\n",
        "  print(\"The Infinite Series is divergent, using Ratio Test\")\n",
        "else:\n",
        "  print(\"Ratio Test Fails\")\n",
        "\n",
        "  l = limit(n * (un / un1 - 1), n, oo)\n",
        "  display(Eq(Limit(n * (an / an1 - 1), n, oo), l))\n",
        "\n",
        "  if l > 1:\n",
        "    print(\"Infinite Series is convergent, using Raabe's Test\")\n",
        "  elif l < 1:\n",
        "    print(\"Infinite Series is divergent, using Raabe's Test\")\n",
        "  else:\n",
        "    print(\"Raabe's Test Fails\")"
      ],
      "metadata": {
        "colab": {
          "base_uri": "https://localhost:8080/",
          "height": 69
        },
        "id": "Kjt_zU73bLzN",
        "outputId": "a563685d-e039-4219-e070-eda53600449e"
      },
      "execution_count": 1,
      "outputs": [
        {
          "output_type": "display_data",
          "data": {
            "text/plain": [
              "Eq(Limit(an1/an, n, oo, dir='-'), 2*exp(-1))"
            ],
            "text/latex": "$\\displaystyle \\lim_{n \\to \\infty}\\left(\\frac{an_{1}}{an}\\right) = \\frac{2}{e}$"
          },
          "metadata": {}
        },
        {
          "output_type": "stream",
          "name": "stdout",
          "text": [
            "The Infinite Series is convergent, using Ratio Test\n"
          ]
        }
      ]
    },
    {
      "cell_type": "code",
      "source": [],
      "metadata": {
        "id": "32MYJ6VFepDP"
      },
      "execution_count": null,
      "outputs": []
    }
  ]
}